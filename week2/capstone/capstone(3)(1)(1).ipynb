{
  "cells": [
    {
      "cell_type": "code",
      "execution_count": 44,
      "metadata": {
        "id": "IjlotNeyRpCc"
      },
      "outputs": [],
      "source": []
    },
    {
      "cell_type": "markdown",
      "metadata": {
        "id": "JlNwOx2qpegf"
      },
      "source": [
        "# Data reading"
      ]
    },
    {
      "cell_type": "code",
      "execution_count": 2,
      "metadata": {
        "colab": {
          "base_uri": "https://localhost:8080/",
          "height": 313
        },
        "id": "Q48hYKa1pmlQ",
        "outputId": "1e92ecc5-abd5-464d-b5c9-6feb88a92d70"
      },
      "outputs": [
        {
          "data": {
            "text/html": [
              "<div>\n",
              "<style scoped>\n",
              "    .dataframe tbody tr th:only-of-type {\n",
              "        vertical-align: middle;\n",
              "    }\n",
              "\n",
              "    .dataframe tbody tr th {\n",
              "        vertical-align: top;\n",
              "    }\n",
              "\n",
              "    .dataframe thead th {\n",
              "        text-align: right;\n",
              "    }\n",
              "</style>\n",
              "<table border=\"1\" class=\"dataframe\">\n",
              "  <thead>\n",
              "    <tr style=\"text-align: right;\">\n",
              "      <th></th>\n",
              "      <th>id</th>\n",
              "      <th>age</th>\n",
              "      <th>tenure</th>\n",
              "      <th>service_type</th>\n",
              "      <th>avg_call_duration</th>\n",
              "      <th>data_usage</th>\n",
              "      <th>roaming_usage</th>\n",
              "      <th>monthly_charge</th>\n",
              "      <th>overdue_payments</th>\n",
              "      <th>auto_payment</th>\n",
              "      <th>avg_top_up_count</th>\n",
              "      <th>call_drops</th>\n",
              "      <th>customer_support_calls</th>\n",
              "      <th>satisfaction_score</th>\n",
              "      <th>apps</th>\n",
              "      <th>churn</th>\n",
              "    </tr>\n",
              "  </thead>\n",
              "  <tbody>\n",
              "    <tr>\n",
              "      <th>0</th>\n",
              "      <td>51893f29-e6c2-45d3-807c-e1280d3d7b90</td>\n",
              "      <td>18</td>\n",
              "      <td>53.0</td>\n",
              "      <td>Prepaid</td>\n",
              "      <td>106.74</td>\n",
              "      <td>139.72</td>\n",
              "      <td>47.31</td>\n",
              "      <td>59.45</td>\n",
              "      <td>0</td>\n",
              "      <td>NaN</td>\n",
              "      <td>25</td>\n",
              "      <td>18.0</td>\n",
              "      <td>13</td>\n",
              "      <td>1.34</td>\n",
              "      <td>[]</td>\n",
              "      <td>False</td>\n",
              "    </tr>\n",
              "    <tr>\n",
              "      <th>1</th>\n",
              "      <td>a568caf1-d851-4847-a9f5-20ef9017fa92</td>\n",
              "      <td>26</td>\n",
              "      <td>15.0</td>\n",
              "      <td>Prepaid</td>\n",
              "      <td>31.55</td>\n",
              "      <td>12.14</td>\n",
              "      <td>21.52</td>\n",
              "      <td>1221.65</td>\n",
              "      <td>0</td>\n",
              "      <td>NaN</td>\n",
              "      <td>51</td>\n",
              "      <td>8.0</td>\n",
              "      <td>3</td>\n",
              "      <td>2.57</td>\n",
              "      <td>[]</td>\n",
              "      <td>False</td>\n",
              "    </tr>\n",
              "    <tr>\n",
              "      <th>2</th>\n",
              "      <td>c611bf0e-a013-44dc-9939-bd33dab16d14</td>\n",
              "      <td>32</td>\n",
              "      <td>152.0</td>\n",
              "      <td>Postpaid</td>\n",
              "      <td>30.64</td>\n",
              "      <td>10.17</td>\n",
              "      <td>31.11</td>\n",
              "      <td>1170.45</td>\n",
              "      <td>0</td>\n",
              "      <td>1.0</td>\n",
              "      <td>0</td>\n",
              "      <td>13.0</td>\n",
              "      <td>10</td>\n",
              "      <td>8.02</td>\n",
              "      <td>[]</td>\n",
              "      <td>False</td>\n",
              "    </tr>\n",
              "    <tr>\n",
              "      <th>3</th>\n",
              "      <td>9284b7b8-a4ef-49a7-9fa4-333954491f57</td>\n",
              "      <td>33</td>\n",
              "      <td>35.0</td>\n",
              "      <td>Prepaid</td>\n",
              "      <td>NaN</td>\n",
              "      <td>NaN</td>\n",
              "      <td>36.03</td>\n",
              "      <td>2418.91</td>\n",
              "      <td>0</td>\n",
              "      <td>NaN</td>\n",
              "      <td>19</td>\n",
              "      <td>7.0</td>\n",
              "      <td>11</td>\n",
              "      <td>5.96</td>\n",
              "      <td>[RitimGo]</td>\n",
              "      <td>False</td>\n",
              "    </tr>\n",
              "    <tr>\n",
              "      <th>4</th>\n",
              "      <td>e205b674-a6e6-43c5-aed7-9497c37c5c82</td>\n",
              "      <td>18</td>\n",
              "      <td>243.0</td>\n",
              "      <td>Prepaid</td>\n",
              "      <td>85.62</td>\n",
              "      <td>164.79</td>\n",
              "      <td>46.40</td>\n",
              "      <td>1518.19</td>\n",
              "      <td>0</td>\n",
              "      <td>NaN</td>\n",
              "      <td>99</td>\n",
              "      <td>15.0</td>\n",
              "      <td>6</td>\n",
              "      <td>8.29</td>\n",
              "      <td>[]</td>\n",
              "      <td>False</td>\n",
              "    </tr>\n",
              "  </tbody>\n",
              "</table>\n",
              "</div>"
            ],
            "text/plain": [
              "                                     id  age  tenure service_type  \\\n",
              "0  51893f29-e6c2-45d3-807c-e1280d3d7b90   18    53.0      Prepaid   \n",
              "1  a568caf1-d851-4847-a9f5-20ef9017fa92   26    15.0      Prepaid   \n",
              "2  c611bf0e-a013-44dc-9939-bd33dab16d14   32   152.0     Postpaid   \n",
              "3  9284b7b8-a4ef-49a7-9fa4-333954491f57   33    35.0      Prepaid   \n",
              "4  e205b674-a6e6-43c5-aed7-9497c37c5c82   18   243.0      Prepaid   \n",
              "\n",
              "   avg_call_duration  data_usage  roaming_usage  monthly_charge  \\\n",
              "0             106.74      139.72          47.31           59.45   \n",
              "1              31.55       12.14          21.52         1221.65   \n",
              "2              30.64       10.17          31.11         1170.45   \n",
              "3                NaN         NaN          36.03         2418.91   \n",
              "4              85.62      164.79          46.40         1518.19   \n",
              "\n",
              "   overdue_payments  auto_payment  avg_top_up_count  call_drops  \\\n",
              "0                 0           NaN                25        18.0   \n",
              "1                 0           NaN                51         8.0   \n",
              "2                 0           1.0                 0        13.0   \n",
              "3                 0           NaN                19         7.0   \n",
              "4                 0           NaN                99        15.0   \n",
              "\n",
              "   customer_support_calls  satisfaction_score       apps  churn  \n",
              "0                      13                1.34         []  False  \n",
              "1                       3                2.57         []  False  \n",
              "2                      10                8.02         []  False  \n",
              "3                      11                5.96  [RitimGo]  False  \n",
              "4                       6                8.29         []  False  "
            ]
          },
          "execution_count": 2,
          "metadata": {},
          "output_type": "execute_result"
        }
      ],
      "source": [
        "import pandas as pd\n",
        "\n",
        "\n",
        "url = f\"capstone.1.jsonl.gz\"\n",
        "df = pd.read_json(url, lines=True, compression='gzip')  # JSONL formatında okuma\n",
        "\n",
        "\n",
        "# İlk 5 satırı göster\n",
        "df.head(5)\n"
      ]
    },
    {
      "cell_type": "code",
      "execution_count": 3,
      "metadata": {
        "colab": {
          "base_uri": "https://localhost:8080/",
          "height": 313
        },
        "id": "m8dkzp8UpxTq",
        "outputId": "2ffdcbab-efb9-481d-bdc6-d40a98e665d7"
      },
      "outputs": [
        {
          "data": {
            "text/html": [
              "<div>\n",
              "<style scoped>\n",
              "    .dataframe tbody tr th:only-of-type {\n",
              "        vertical-align: middle;\n",
              "    }\n",
              "\n",
              "    .dataframe tbody tr th {\n",
              "        vertical-align: top;\n",
              "    }\n",
              "\n",
              "    .dataframe thead th {\n",
              "        text-align: right;\n",
              "    }\n",
              "</style>\n",
              "<table border=\"1\" class=\"dataframe\">\n",
              "  <thead>\n",
              "    <tr style=\"text-align: right;\">\n",
              "      <th></th>\n",
              "      <th>id</th>\n",
              "      <th>age</th>\n",
              "      <th>tenure</th>\n",
              "      <th>service_type</th>\n",
              "      <th>avg_call_duration</th>\n",
              "      <th>data_usage</th>\n",
              "      <th>roaming_usage</th>\n",
              "      <th>monthly_charge</th>\n",
              "      <th>overdue_payments</th>\n",
              "      <th>auto_payment</th>\n",
              "      <th>avg_top_up_count</th>\n",
              "      <th>call_drops</th>\n",
              "      <th>customer_support_calls</th>\n",
              "      <th>satisfaction_score</th>\n",
              "      <th>apps</th>\n",
              "      <th>churn</th>\n",
              "    </tr>\n",
              "  </thead>\n",
              "  <tbody>\n",
              "    <tr>\n",
              "      <th>0</th>\n",
              "      <td>51893f29-e6c2-45d3-807c-e1280d3d7b90</td>\n",
              "      <td>18</td>\n",
              "      <td>53.0</td>\n",
              "      <td>Prepaid</td>\n",
              "      <td>106.74</td>\n",
              "      <td>139.72</td>\n",
              "      <td>47.31</td>\n",
              "      <td>59.45</td>\n",
              "      <td>0</td>\n",
              "      <td>NaN</td>\n",
              "      <td>25</td>\n",
              "      <td>18.0</td>\n",
              "      <td>13</td>\n",
              "      <td>1.34</td>\n",
              "      <td>[]</td>\n",
              "      <td>False</td>\n",
              "    </tr>\n",
              "    <tr>\n",
              "      <th>1</th>\n",
              "      <td>a568caf1-d851-4847-a9f5-20ef9017fa92</td>\n",
              "      <td>26</td>\n",
              "      <td>15.0</td>\n",
              "      <td>Prepaid</td>\n",
              "      <td>31.55</td>\n",
              "      <td>12.14</td>\n",
              "      <td>21.52</td>\n",
              "      <td>1221.65</td>\n",
              "      <td>0</td>\n",
              "      <td>NaN</td>\n",
              "      <td>51</td>\n",
              "      <td>8.0</td>\n",
              "      <td>3</td>\n",
              "      <td>2.57</td>\n",
              "      <td>[]</td>\n",
              "      <td>False</td>\n",
              "    </tr>\n",
              "    <tr>\n",
              "      <th>2</th>\n",
              "      <td>c611bf0e-a013-44dc-9939-bd33dab16d14</td>\n",
              "      <td>32</td>\n",
              "      <td>152.0</td>\n",
              "      <td>Postpaid</td>\n",
              "      <td>30.64</td>\n",
              "      <td>10.17</td>\n",
              "      <td>31.11</td>\n",
              "      <td>1170.45</td>\n",
              "      <td>0</td>\n",
              "      <td>1.0</td>\n",
              "      <td>0</td>\n",
              "      <td>13.0</td>\n",
              "      <td>10</td>\n",
              "      <td>8.02</td>\n",
              "      <td>[]</td>\n",
              "      <td>False</td>\n",
              "    </tr>\n",
              "    <tr>\n",
              "      <th>3</th>\n",
              "      <td>9284b7b8-a4ef-49a7-9fa4-333954491f57</td>\n",
              "      <td>33</td>\n",
              "      <td>35.0</td>\n",
              "      <td>Prepaid</td>\n",
              "      <td>NaN</td>\n",
              "      <td>NaN</td>\n",
              "      <td>36.03</td>\n",
              "      <td>2418.91</td>\n",
              "      <td>0</td>\n",
              "      <td>NaN</td>\n",
              "      <td>19</td>\n",
              "      <td>7.0</td>\n",
              "      <td>11</td>\n",
              "      <td>5.96</td>\n",
              "      <td>[RitimGo]</td>\n",
              "      <td>False</td>\n",
              "    </tr>\n",
              "    <tr>\n",
              "      <th>4</th>\n",
              "      <td>e205b674-a6e6-43c5-aed7-9497c37c5c82</td>\n",
              "      <td>18</td>\n",
              "      <td>243.0</td>\n",
              "      <td>Prepaid</td>\n",
              "      <td>85.62</td>\n",
              "      <td>164.79</td>\n",
              "      <td>46.40</td>\n",
              "      <td>1518.19</td>\n",
              "      <td>0</td>\n",
              "      <td>NaN</td>\n",
              "      <td>99</td>\n",
              "      <td>15.0</td>\n",
              "      <td>6</td>\n",
              "      <td>8.29</td>\n",
              "      <td>[]</td>\n",
              "      <td>False</td>\n",
              "    </tr>\n",
              "  </tbody>\n",
              "</table>\n",
              "</div>"
            ],
            "text/plain": [
              "                                     id  age  tenure service_type  \\\n",
              "0  51893f29-e6c2-45d3-807c-e1280d3d7b90   18    53.0      Prepaid   \n",
              "1  a568caf1-d851-4847-a9f5-20ef9017fa92   26    15.0      Prepaid   \n",
              "2  c611bf0e-a013-44dc-9939-bd33dab16d14   32   152.0     Postpaid   \n",
              "3  9284b7b8-a4ef-49a7-9fa4-333954491f57   33    35.0      Prepaid   \n",
              "4  e205b674-a6e6-43c5-aed7-9497c37c5c82   18   243.0      Prepaid   \n",
              "\n",
              "   avg_call_duration  data_usage  roaming_usage  monthly_charge  \\\n",
              "0             106.74      139.72          47.31           59.45   \n",
              "1              31.55       12.14          21.52         1221.65   \n",
              "2              30.64       10.17          31.11         1170.45   \n",
              "3                NaN         NaN          36.03         2418.91   \n",
              "4              85.62      164.79          46.40         1518.19   \n",
              "\n",
              "   overdue_payments  auto_payment  avg_top_up_count  call_drops  \\\n",
              "0                 0           NaN                25        18.0   \n",
              "1                 0           NaN                51         8.0   \n",
              "2                 0           1.0                 0        13.0   \n",
              "3                 0           NaN                19         7.0   \n",
              "4                 0           NaN                99        15.0   \n",
              "\n",
              "   customer_support_calls  satisfaction_score       apps  churn  \n",
              "0                      13                1.34         []  False  \n",
              "1                       3                2.57         []  False  \n",
              "2                      10                8.02         []  False  \n",
              "3                      11                5.96  [RitimGo]  False  \n",
              "4                       6                8.29         []  False  "
            ]
          },
          "execution_count": 3,
          "metadata": {},
          "output_type": "execute_result"
        }
      ],
      "source": [
        "df.head(5)"
      ]
    },
    {
      "cell_type": "code",
      "execution_count": 4,
      "metadata": {
        "colab": {
          "base_uri": "https://localhost:8080/"
        },
        "id": "6MDKFtdzp-RQ",
        "outputId": "40d2df5a-8235-4df0-943e-2b5862d47be1"
      },
      "outputs": [
        {
          "data": {
            "text/plain": [
              "(1000000, 16)"
            ]
          },
          "execution_count": 4,
          "metadata": {},
          "output_type": "execute_result"
        }
      ],
      "source": [
        "df.shape"
      ]
    },
    {
      "cell_type": "code",
      "execution_count": 5,
      "metadata": {
        "colab": {
          "base_uri": "https://localhost:8080/"
        },
        "id": "tDlUyWfAqAZ6",
        "outputId": "118c5626-3da7-497f-92b0-792db08ce5fc"
      },
      "outputs": [
        {
          "name": "stdout",
          "output_type": "stream",
          "text": [
            "<class 'pandas.core.frame.DataFrame'>\n",
            "RangeIndex: 1000000 entries, 0 to 999999\n",
            "Data columns (total 16 columns):\n",
            " #   Column                  Non-Null Count    Dtype  \n",
            "---  ------                  --------------    -----  \n",
            " 0   id                      1000000 non-null  object \n",
            " 1   age                     1000000 non-null  int64  \n",
            " 2   tenure                  997490 non-null   float64\n",
            " 3   service_type            1000000 non-null  object \n",
            " 4   avg_call_duration       633869 non-null   float64\n",
            " 5   data_usage              950120 non-null   float64\n",
            " 6   roaming_usage           667006 non-null   float64\n",
            " 7   monthly_charge          974801 non-null   float64\n",
            " 8   overdue_payments        1000000 non-null  int64  \n",
            " 9   auto_payment            665862 non-null   float64\n",
            " 10  avg_top_up_count        1000000 non-null  int64  \n",
            " 11  call_drops              667006 non-null   float64\n",
            " 12  customer_support_calls  1000000 non-null  int64  \n",
            " 13  satisfaction_score      1000000 non-null  float64\n",
            " 14  apps                    1000000 non-null  object \n",
            " 15  churn                   1000000 non-null  bool   \n",
            "dtypes: bool(1), float64(8), int64(4), object(3)\n",
            "memory usage: 115.4+ MB\n"
          ]
        }
      ],
      "source": [
        "df.info()"
      ]
    },
    {
      "cell_type": "code",
      "execution_count": 6,
      "metadata": {
        "colab": {
          "base_uri": "https://localhost:8080/",
          "height": 606
        },
        "id": "HEiG6m59qLJf",
        "outputId": "199ebc00-c595-41a4-8dbc-964af7b2a011"
      },
      "outputs": [
        {
          "data": {
            "text/plain": [
              "id                             0\n",
              "age                            0\n",
              "tenure                      2510\n",
              "service_type                   0\n",
              "avg_call_duration         366131\n",
              "data_usage                 49880\n",
              "roaming_usage             332994\n",
              "monthly_charge             25199\n",
              "overdue_payments               0\n",
              "auto_payment              334138\n",
              "avg_top_up_count               0\n",
              "call_drops                332994\n",
              "customer_support_calls         0\n",
              "satisfaction_score             0\n",
              "apps                           0\n",
              "churn                          0\n",
              "dtype: int64"
            ]
          },
          "execution_count": 6,
          "metadata": {},
          "output_type": "execute_result"
        }
      ],
      "source": [
        "df.isnull().sum()"
      ]
    },
    {
      "cell_type": "markdown",
      "metadata": {
        "id": "2va7LwMPtJx6"
      },
      "source": [
        "## İD"
      ]
    },
    {
      "cell_type": "code",
      "execution_count": 7,
      "metadata": {
        "id": "XiE9xUMUqohA"
      },
      "outputs": [],
      "source": [
        "mf=df\n",
        "df.drop(\"id\",inplace=True,axis=1)"
      ]
    },
    {
      "cell_type": "markdown",
      "metadata": {
        "id": "6NV41jwDtpT0"
      },
      "source": [
        "## age"
      ]
    },
    {
      "cell_type": "code",
      "execution_count": 8,
      "metadata": {
        "colab": {
          "base_uri": "https://localhost:8080/"
        },
        "id": "d6UBUVOjtSm_",
        "outputId": "9f236b41-38e2-4363-f0c6-6d21dc5c75ca"
      },
      "outputs": [
        {
          "data": {
            "text/plain": [
              "array([18, 26, 32, 33, 37, 20, 36, 47, 19, 42, 29, 41, 31, 25, 23, 38, 50,\n",
              "       64, 57, 40, 44, 27, 28, 55, 22, 46, 35, 21, 49, 34, 30, 24, 54, 52,\n",
              "       43, 45, 56, 53, 39, 62, 51, 48, 61, 60, 58, 73, 59, 63, 69, 68, 75,\n",
              "       71, 67, 66, 65, 77, 70, 74, 76, 80, 78, 72, 79])"
            ]
          },
          "execution_count": 8,
          "metadata": {},
          "output_type": "execute_result"
        }
      ],
      "source": [
        "df[\"age\"].unique()"
      ]
    },
    {
      "cell_type": "code",
      "execution_count": 9,
      "metadata": {
        "colab": {
          "base_uri": "https://localhost:8080/"
        },
        "id": "fK5I0hcmtnq5",
        "outputId": "c2277b42-99e0-44f1-9426-dbd93a54e531"
      },
      "outputs": [
        {
          "data": {
            "text/plain": [
              "30.391954"
            ]
          },
          "execution_count": 9,
          "metadata": {},
          "output_type": "execute_result"
        }
      ],
      "source": [
        "df[\"age\"].mean()"
      ]
    },
    {
      "cell_type": "code",
      "execution_count": 10,
      "metadata": {
        "colab": {
          "base_uri": "https://localhost:8080/",
          "height": 132
        },
        "id": "RfT4FJLFt1G2",
        "outputId": "aef22b9c-ea63-4d94-e4e0-9a78da41c76b"
      },
      "outputs": [
        {
          "data": {
            "text/html": [
              "<div>\n",
              "<style scoped>\n",
              "    .dataframe tbody tr th:only-of-type {\n",
              "        vertical-align: middle;\n",
              "    }\n",
              "\n",
              "    .dataframe tbody tr th {\n",
              "        vertical-align: top;\n",
              "    }\n",
              "\n",
              "    .dataframe thead th {\n",
              "        text-align: right;\n",
              "    }\n",
              "</style>\n",
              "<table border=\"1\" class=\"dataframe\">\n",
              "  <thead>\n",
              "    <tr style=\"text-align: right;\">\n",
              "      <th></th>\n",
              "      <th>0</th>\n",
              "      <th>1</th>\n",
              "      <th>2</th>\n",
              "      <th>3</th>\n",
              "      <th>4</th>\n",
              "      <th>5</th>\n",
              "      <th>6</th>\n",
              "      <th>7</th>\n",
              "      <th>8</th>\n",
              "      <th>9</th>\n",
              "      <th>10</th>\n",
              "      <th>11</th>\n",
              "      <th>12</th>\n",
              "      <th>13</th>\n",
              "      <th>14</th>\n",
              "      <th>15</th>\n",
              "      <th>16</th>\n",
              "      <th>17</th>\n",
              "      <th>18</th>\n",
              "      <th>19</th>\n",
              "      <th>20</th>\n",
              "      <th>21</th>\n",
              "      <th>22</th>\n",
              "      <th>23</th>\n",
              "      <th>24</th>\n",
              "      <th>25</th>\n",
              "      <th>26</th>\n",
              "      <th>27</th>\n",
              "      <th>28</th>\n",
              "      <th>29</th>\n",
              "      <th>30</th>\n",
              "      <th>31</th>\n",
              "      <th>32</th>\n",
              "      <th>33</th>\n",
              "      <th>34</th>\n",
              "      <th>35</th>\n",
              "      <th>36</th>\n",
              "      <th>37</th>\n",
              "      <th>38</th>\n",
              "      <th>39</th>\n",
              "      <th>40</th>\n",
              "      <th>41</th>\n",
              "      <th>42</th>\n",
              "      <th>43</th>\n",
              "      <th>44</th>\n",
              "      <th>45</th>\n",
              "      <th>46</th>\n",
              "      <th>47</th>\n",
              "      <th>48</th>\n",
              "      <th>49</th>\n",
              "      <th>50</th>\n",
              "      <th>51</th>\n",
              "      <th>52</th>\n",
              "      <th>53</th>\n",
              "      <th>54</th>\n",
              "      <th>55</th>\n",
              "      <th>56</th>\n",
              "      <th>57</th>\n",
              "      <th>58</th>\n",
              "      <th>59</th>\n",
              "      <th>60</th>\n",
              "      <th>61</th>\n",
              "      <th>62</th>\n",
              "    </tr>\n",
              "  </thead>\n",
              "  <tbody>\n",
              "    <tr>\n",
              "      <th>age</th>\n",
              "      <td>18</td>\n",
              "      <td>22</td>\n",
              "      <td>21</td>\n",
              "      <td>23</td>\n",
              "      <td>20</td>\n",
              "      <td>19</td>\n",
              "      <td>24</td>\n",
              "      <td>25</td>\n",
              "      <td>26</td>\n",
              "      <td>27</td>\n",
              "      <td>28</td>\n",
              "      <td>29</td>\n",
              "      <td>30</td>\n",
              "      <td>31</td>\n",
              "      <td>32</td>\n",
              "      <td>33</td>\n",
              "      <td>34</td>\n",
              "      <td>35</td>\n",
              "      <td>36</td>\n",
              "      <td>37</td>\n",
              "      <td>38</td>\n",
              "      <td>39</td>\n",
              "      <td>40</td>\n",
              "      <td>41</td>\n",
              "      <td>42</td>\n",
              "      <td>43</td>\n",
              "      <td>44</td>\n",
              "      <td>45</td>\n",
              "      <td>46</td>\n",
              "      <td>47</td>\n",
              "      <td>48</td>\n",
              "      <td>49</td>\n",
              "      <td>50</td>\n",
              "      <td>51</td>\n",
              "      <td>52</td>\n",
              "      <td>53</td>\n",
              "      <td>54</td>\n",
              "      <td>55</td>\n",
              "      <td>56</td>\n",
              "      <td>57</td>\n",
              "      <td>58</td>\n",
              "      <td>59</td>\n",
              "      <td>60</td>\n",
              "      <td>61</td>\n",
              "      <td>62</td>\n",
              "      <td>63</td>\n",
              "      <td>64</td>\n",
              "      <td>65</td>\n",
              "      <td>66</td>\n",
              "      <td>67</td>\n",
              "      <td>68</td>\n",
              "      <td>69</td>\n",
              "      <td>70</td>\n",
              "      <td>71</td>\n",
              "      <td>72</td>\n",
              "      <td>73</td>\n",
              "      <td>74</td>\n",
              "      <td>75</td>\n",
              "      <td>80</td>\n",
              "      <td>76</td>\n",
              "      <td>77</td>\n",
              "      <td>78</td>\n",
              "      <td>79</td>\n",
              "    </tr>\n",
              "    <tr>\n",
              "      <th>0</th>\n",
              "      <td>205197</td>\n",
              "      <td>33287</td>\n",
              "      <td>33225</td>\n",
              "      <td>32798</td>\n",
              "      <td>32745</td>\n",
              "      <td>31616</td>\n",
              "      <td>31609</td>\n",
              "      <td>30616</td>\n",
              "      <td>29449</td>\n",
              "      <td>28278</td>\n",
              "      <td>26966</td>\n",
              "      <td>26290</td>\n",
              "      <td>25231</td>\n",
              "      <td>24997</td>\n",
              "      <td>24415</td>\n",
              "      <td>23472</td>\n",
              "      <td>23468</td>\n",
              "      <td>23192</td>\n",
              "      <td>22355</td>\n",
              "      <td>22001</td>\n",
              "      <td>21603</td>\n",
              "      <td>20787</td>\n",
              "      <td>20191</td>\n",
              "      <td>19298</td>\n",
              "      <td>18573</td>\n",
              "      <td>17534</td>\n",
              "      <td>16106</td>\n",
              "      <td>15118</td>\n",
              "      <td>14107</td>\n",
              "      <td>12929</td>\n",
              "      <td>11660</td>\n",
              "      <td>10821</td>\n",
              "      <td>9472</td>\n",
              "      <td>8751</td>\n",
              "      <td>7442</td>\n",
              "      <td>6734</td>\n",
              "      <td>6038</td>\n",
              "      <td>5112</td>\n",
              "      <td>4387</td>\n",
              "      <td>3785</td>\n",
              "      <td>3326</td>\n",
              "      <td>2680</td>\n",
              "      <td>2340</td>\n",
              "      <td>1851</td>\n",
              "      <td>1579</td>\n",
              "      <td>1314</td>\n",
              "      <td>1038</td>\n",
              "      <td>926</td>\n",
              "      <td>718</td>\n",
              "      <td>588</td>\n",
              "      <td>449</td>\n",
              "      <td>354</td>\n",
              "      <td>312</td>\n",
              "      <td>217</td>\n",
              "      <td>187</td>\n",
              "      <td>128</td>\n",
              "      <td>98</td>\n",
              "      <td>64</td>\n",
              "      <td>59</td>\n",
              "      <td>39</td>\n",
              "      <td>36</td>\n",
              "      <td>26</td>\n",
              "      <td>16</td>\n",
              "    </tr>\n",
              "  </tbody>\n",
              "</table>\n",
              "</div>"
            ],
            "text/plain": [
              "         0      1      2      3      4      5      6      7      8      9   \\\n",
              "age      18     22     21     23     20     19     24     25     26     27   \n",
              "0    205197  33287  33225  32798  32745  31616  31609  30616  29449  28278   \n",
              "\n",
              "        10     11     12     13     14     15     16     17     18     19  \\\n",
              "age     28     29     30     31     32     33     34     35     36     37   \n",
              "0    26966  26290  25231  24997  24415  23472  23468  23192  22355  22001   \n",
              "\n",
              "        20     21     22     23     24     25     26     27     28     29  \\\n",
              "age     38     39     40     41     42     43     44     45     46     47   \n",
              "0    21603  20787  20191  19298  18573  17534  16106  15118  14107  12929   \n",
              "\n",
              "        30     31    32    33    34    35    36    37    38    39    40    41  \\\n",
              "age     48     49    50    51    52    53    54    55    56    57    58    59   \n",
              "0    11660  10821  9472  8751  7442  6734  6038  5112  4387  3785  3326  2680   \n",
              "\n",
              "       42    43    44    45    46   47   48   49   50   51   52   53   54  \\\n",
              "age    60    61    62    63    64   65   66   67   68   69   70   71   72   \n",
              "0    2340  1851  1579  1314  1038  926  718  588  449  354  312  217  187   \n",
              "\n",
              "      55  56  57  58  59  60  61  62  \n",
              "age   73  74  75  80  76  77  78  79  \n",
              "0    128  98  64  59  39  36  26  16  "
            ]
          },
          "execution_count": 10,
          "metadata": {},
          "output_type": "execute_result"
        }
      ],
      "source": [
        "pd.set_option('display.max_columns', None)\n",
        "pd.set_option('display.max_rows', None)\n",
        "\n",
        "\n",
        "df[[\"age\"]].value_counts().reset_index().T\n"
      ]
    },
    {
      "cell_type": "markdown",
      "metadata": {
        "id": "zUz1X88vvNe4"
      },
      "source": [
        "## tenure"
      ]
    },
    {
      "cell_type": "code",
      "execution_count": 11,
      "metadata": {
        "colab": {
          "base_uri": "https://localhost:8080/",
          "height": 136
        },
        "id": "1Gvi1QKWt7D8",
        "outputId": "036a069b-4350-4cdd-d3de-95782a5de927"
      },
      "outputs": [
        {
          "data": {
            "text/plain": [
              "tenure    2510\n",
              "dtype: int64"
            ]
          },
          "execution_count": 11,
          "metadata": {},
          "output_type": "execute_result"
        }
      ],
      "source": [
        "df[[\"tenure\"]].isnull().sum()"
      ]
    },
    {
      "cell_type": "code",
      "execution_count": 12,
      "metadata": {
        "colab": {
          "base_uri": "https://localhost:8080/",
          "height": 136
        },
        "id": "nWkOSgv4vqiB",
        "outputId": "f9bde08c-9bc1-4ec5-ea89-c5318e251223"
      },
      "outputs": [
        {
          "data": {
            "text/plain": [
              "tenure    2510\n",
              "dtype: int64"
            ]
          },
          "execution_count": 12,
          "metadata": {},
          "output_type": "execute_result"
        }
      ],
      "source": [
        "df[[\"tenure\"]].isnull().sum()"
      ]
    },
    {
      "cell_type": "markdown",
      "metadata": {
        "id": "Fd0Ms7_26ng0"
      },
      "source": [
        "## service type"
      ]
    },
    {
      "cell_type": "code",
      "execution_count": 13,
      "metadata": {
        "colab": {
          "base_uri": "https://localhost:8080/",
          "height": 230
        },
        "id": "aGcJg1XpwCda",
        "outputId": "bd6b9264-f72a-4bdb-dc6e-96683c0b47d6"
      },
      "outputs": [
        {
          "data": {
            "text/plain": [
              "service_type\n",
              "Postpaid        333691\n",
              "Prepaid         333315\n",
              "Broadband       332994\n",
              "dtype: int64"
            ]
          },
          "execution_count": 13,
          "metadata": {},
          "output_type": "execute_result"
        }
      ],
      "source": [
        "df[[\"service_type\"]].value_counts()"
      ]
    },
    {
      "cell_type": "code",
      "execution_count": 14,
      "metadata": {
        "colab": {
          "base_uri": "https://localhost:8080/",
          "height": 136
        },
        "id": "_npIzsSg621o",
        "outputId": "f2990a19-c58b-43a6-8377-e928880fab08"
      },
      "outputs": [
        {
          "data": {
            "text/plain": [
              "service_type    0\n",
              "dtype: int64"
            ]
          },
          "execution_count": 14,
          "metadata": {},
          "output_type": "execute_result"
        }
      ],
      "source": [
        "df[[\"service_type\"]].isnull().sum()"
      ]
    },
    {
      "cell_type": "markdown",
      "metadata": {
        "id": "M309hIS77bBM"
      },
      "source": [
        "## avg_call_duration"
      ]
    },
    {
      "cell_type": "code",
      "execution_count": 15,
      "metadata": {
        "id": "tSNmglEK8o4B"
      },
      "outputs": [],
      "source": [
        "## boş olanlar int"
      ]
    },
    {
      "cell_type": "code",
      "execution_count": 16,
      "metadata": {
        "colab": {
          "base_uri": "https://localhost:8080/",
          "height": 136
        },
        "id": "GHXxnTXU7TBn",
        "outputId": "15c299af-baf6-4e07-8d14-70c441cf69ee"
      },
      "outputs": [
        {
          "data": {
            "text/plain": [
              "avg_call_duration    60.418678\n",
              "dtype: float64"
            ]
          },
          "execution_count": 16,
          "metadata": {},
          "output_type": "execute_result"
        }
      ],
      "source": [
        "df[[\"avg_call_duration\"]].mean()"
      ]
    },
    {
      "cell_type": "code",
      "execution_count": 17,
      "metadata": {
        "colab": {
          "base_uri": "https://localhost:8080/",
          "height": 136
        },
        "id": "8Zo6Sd008Br8",
        "outputId": "1d5032e5-f784-4634-e1eb-78e461615a23"
      },
      "outputs": [
        {
          "data": {
            "text/plain": [
              "avg_call_duration    366131\n",
              "dtype: int64"
            ]
          },
          "execution_count": 17,
          "metadata": {},
          "output_type": "execute_result"
        }
      ],
      "source": [
        "df[[\"avg_call_duration\"]].isnull().sum()"
      ]
    },
    {
      "cell_type": "code",
      "execution_count": 18,
      "metadata": {
        "colab": {
          "base_uri": "https://localhost:8080/",
          "height": 136
        },
        "id": "IgaOivpl8Svw",
        "outputId": "1b53aa47-5552-477e-ed63-b1fc4e724660"
      },
      "outputs": [
        {
          "data": {
            "text/plain": [
              "avg_call_duration    366131\n",
              "dtype: int64"
            ]
          },
          "execution_count": 18,
          "metadata": {},
          "output_type": "execute_result"
        }
      ],
      "source": [
        "df[[\"avg_call_duration\"]].isnull().sum()"
      ]
    },
    {
      "cell_type": "code",
      "execution_count": 19,
      "metadata": {
        "id": "WiCisIul8Ss5"
      },
      "outputs": [],
      "source": [
        "df[[\"avg_call_duration\"]]=df[[\"avg_call_duration\"]]/60 #dakika olasun diye"
      ]
    },
    {
      "cell_type": "code",
      "execution_count": 20,
      "metadata": {
        "colab": {
          "base_uri": "https://localhost:8080/",
          "height": 136
        },
        "id": "Ty59BxDZ8SqB",
        "outputId": "d5eac561-ee9f-4280-a745-a3580c4ec94c"
      },
      "outputs": [
        {
          "data": {
            "text/plain": [
              "avg_call_duration    1.006\n",
              "dtype: float64"
            ]
          },
          "execution_count": 20,
          "metadata": {},
          "output_type": "execute_result"
        }
      ],
      "source": [
        "df[[\"avg_call_duration\"]].median()"
      ]
    },
    {
      "cell_type": "markdown",
      "metadata": {
        "id": "2xv9WuId8ebJ"
      },
      "source": [
        "## data_usage"
      ]
    },
    {
      "cell_type": "code",
      "execution_count": 21,
      "metadata": {
        "colab": {
          "base_uri": "https://localhost:8080/",
          "height": 136
        },
        "id": "p0L-6j-Z8SlE",
        "outputId": "1c7ac1a1-ed3d-4748-f113-09e5b89ca265"
      },
      "outputs": [
        {
          "data": {
            "text/plain": [
              "data_usage    100.17852\n",
              "dtype: float64"
            ]
          },
          "execution_count": 21,
          "metadata": {},
          "output_type": "execute_result"
        }
      ],
      "source": [
        "df[[\"data_usage\"]].mean()"
      ]
    },
    {
      "cell_type": "code",
      "execution_count": 22,
      "metadata": {
        "colab": {
          "base_uri": "https://localhost:8080/",
          "height": 136
        },
        "id": "p1Jqh4M47rOQ",
        "outputId": "7f7e007d-d78b-4ca3-ba3b-0dbd578f9a7d"
      },
      "outputs": [
        {
          "data": {
            "text/plain": [
              "data_usage    49880\n",
              "dtype: int64"
            ]
          },
          "execution_count": 22,
          "metadata": {},
          "output_type": "execute_result"
        }
      ],
      "source": [
        "df[[\"data_usage\"]].isnull().sum()"
      ]
    },
    {
      "cell_type": "code",
      "execution_count": 23,
      "metadata": {
        "colab": {
          "base_uri": "https://localhost:8080/",
          "height": 136
        },
        "id": "EE3_polGA2Sq",
        "outputId": "fdbb0f09-7d09-4704-9803-46aa54fae871"
      },
      "outputs": [
        {
          "data": {
            "text/plain": [
              "data_usage    49880\n",
              "dtype: int64"
            ]
          },
          "execution_count": 23,
          "metadata": {},
          "output_type": "execute_result"
        }
      ],
      "source": [
        "df[[\"data_usage\"]].isnull().sum()"
      ]
    },
    {
      "cell_type": "markdown",
      "metadata": {
        "id": "EW4s-l33_XEQ"
      },
      "source": [
        "## roaming_usage"
      ]
    },
    {
      "cell_type": "code",
      "execution_count": 24,
      "metadata": {
        "colab": {
          "base_uri": "https://localhost:8080/",
          "height": 136
        },
        "id": "WFBF3rfi_P1P",
        "outputId": "bd9a319f-0fb1-4725-ae2b-1010b80e8895"
      },
      "outputs": [
        {
          "data": {
            "text/plain": [
              "roaming_usage    29.995078\n",
              "dtype: float64"
            ]
          },
          "execution_count": 24,
          "metadata": {},
          "output_type": "execute_result"
        }
      ],
      "source": [
        "df[[\"roaming_usage\"]].mean()"
      ]
    },
    {
      "cell_type": "code",
      "execution_count": 25,
      "metadata": {
        "colab": {
          "base_uri": "https://localhost:8080/",
          "height": 136
        },
        "id": "v2azYe6F_ehd",
        "outputId": "2271dd66-e3f8-49f2-fbd4-32aa64f31ac7"
      },
      "outputs": [
        {
          "data": {
            "text/plain": [
              "roaming_usage    332994\n",
              "dtype: int64"
            ]
          },
          "execution_count": 25,
          "metadata": {},
          "output_type": "execute_result"
        }
      ],
      "source": [
        "df[[\"roaming_usage\"]].isnull().sum()"
      ]
    },
    {
      "cell_type": "code",
      "execution_count": 26,
      "metadata": {
        "colab": {
          "base_uri": "https://localhost:8080/",
          "height": 136
        },
        "id": "at8QHg0BBL1p",
        "outputId": "2e6292d9-8352-442f-f61f-75a534364b9e"
      },
      "outputs": [
        {
          "data": {
            "text/plain": [
              "roaming_usage    332994\n",
              "dtype: int64"
            ]
          },
          "execution_count": 26,
          "metadata": {},
          "output_type": "execute_result"
        }
      ],
      "source": [
        "df[[\"roaming_usage\"]].isnull().sum()"
      ]
    },
    {
      "cell_type": "markdown",
      "metadata": {
        "id": "IDsDWNWC_5xY"
      },
      "source": [
        "## monthly_charge"
      ]
    },
    {
      "cell_type": "code",
      "execution_count": 27,
      "metadata": {
        "colab": {
          "base_uri": "https://localhost:8080/",
          "height": 136
        },
        "id": "JEx13JS4_y-s",
        "outputId": "9b698fc0-b323-40a9-a7f6-1d7ce6546beb"
      },
      "outputs": [
        {
          "data": {
            "text/plain": [
              "monthly_charge    743.541912\n",
              "dtype: float64"
            ]
          },
          "execution_count": 27,
          "metadata": {},
          "output_type": "execute_result"
        }
      ],
      "source": [
        "df[[\"monthly_charge\"]].mean()"
      ]
    },
    {
      "cell_type": "code",
      "execution_count": 28,
      "metadata": {
        "colab": {
          "base_uri": "https://localhost:8080/",
          "height": 136
        },
        "id": "X_xHe_KG__E8",
        "outputId": "33e7cdf4-4433-41e1-b40a-f44753df8f78"
      },
      "outputs": [
        {
          "data": {
            "text/plain": [
              "monthly_charge    25199\n",
              "dtype: int64"
            ]
          },
          "execution_count": 28,
          "metadata": {},
          "output_type": "execute_result"
        }
      ],
      "source": [
        "df[[\"monthly_charge\"]].isnull().sum()"
      ]
    },
    {
      "cell_type": "markdown",
      "metadata": {
        "id": "2Jh4UvGzAF8Q"
      },
      "source": [
        "## overdue_payments"
      ]
    },
    {
      "cell_type": "code",
      "execution_count": 29,
      "metadata": {
        "colab": {
          "base_uri": "https://localhost:8080/",
          "height": 136
        },
        "id": "v9xGUh_0ACeM",
        "outputId": "d71733e8-b516-4d26-d324-8d9e7b680f7e"
      },
      "outputs": [
        {
          "data": {
            "text/plain": [
              "overdue_payments    1.665858\n",
              "dtype: float64"
            ]
          },
          "execution_count": 29,
          "metadata": {},
          "output_type": "execute_result"
        }
      ],
      "source": [
        "df[[\"overdue_payments\"]].mean()"
      ]
    },
    {
      "cell_type": "code",
      "execution_count": 30,
      "metadata": {
        "colab": {
          "base_uri": "https://localhost:8080/",
          "height": 136
        },
        "id": "w5EMakPBAPN-",
        "outputId": "c0331a16-c886-4f2d-e28a-5ff764abf3ef"
      },
      "outputs": [
        {
          "data": {
            "text/plain": [
              "overdue_payments    0\n",
              "dtype: int64"
            ]
          },
          "execution_count": 30,
          "metadata": {},
          "output_type": "execute_result"
        }
      ],
      "source": [
        "df[[\"overdue_payments\"]].isnull().sum()"
      ]
    },
    {
      "cell_type": "markdown",
      "metadata": {
        "id": "xoy0rN1sBXni"
      },
      "source": [
        "## auto_payment"
      ]
    },
    {
      "cell_type": "markdown",
      "metadata": {
        "id": "ZXPCPTj2BbmT"
      },
      "source": [
        "## avg_top_up_count"
      ]
    },
    {
      "cell_type": "markdown",
      "metadata": {
        "id": "3cnXSbeUBfTD"
      },
      "source": [
        "## call_drops"
      ]
    },
    {
      "cell_type": "markdown",
      "metadata": {
        "id": "jDqcN5q1BlCH"
      },
      "source": [
        "## customer_support_calls"
      ]
    },
    {
      "cell_type": "markdown",
      "metadata": {
        "id": "ddA0nDVjBozs"
      },
      "source": [
        "## satisfaction_score"
      ]
    },
    {
      "cell_type": "markdown",
      "metadata": {
        "id": "nscgeDgnBsMI"
      },
      "source": [
        "## apps"
      ]
    },
    {
      "cell_type": "markdown",
      "metadata": {
        "id": "EeArQFAjBvd-"
      },
      "source": [
        "## churn"
      ]
    },
    {
      "cell_type": "code",
      "execution_count": 31,
      "metadata": {
        "colab": {
          "base_uri": "https://localhost:8080/",
          "height": 226
        },
        "id": "1P4PW8ljGeFV",
        "outputId": "4061422f-d8a2-422a-ebe9-1c553eac923e"
      },
      "outputs": [
        {
          "data": {
            "text/html": [
              "<div>\n",
              "<style scoped>\n",
              "    .dataframe tbody tr th:only-of-type {\n",
              "        vertical-align: middle;\n",
              "    }\n",
              "\n",
              "    .dataframe tbody tr th {\n",
              "        vertical-align: top;\n",
              "    }\n",
              "\n",
              "    .dataframe thead th {\n",
              "        text-align: right;\n",
              "    }\n",
              "</style>\n",
              "<table border=\"1\" class=\"dataframe\">\n",
              "  <thead>\n",
              "    <tr style=\"text-align: right;\">\n",
              "      <th></th>\n",
              "      <th>age</th>\n",
              "      <th>tenure</th>\n",
              "      <th>service_type</th>\n",
              "      <th>avg_call_duration</th>\n",
              "      <th>data_usage</th>\n",
              "      <th>roaming_usage</th>\n",
              "      <th>monthly_charge</th>\n",
              "      <th>overdue_payments</th>\n",
              "      <th>auto_payment</th>\n",
              "      <th>avg_top_up_count</th>\n",
              "      <th>call_drops</th>\n",
              "      <th>customer_support_calls</th>\n",
              "      <th>satisfaction_score</th>\n",
              "      <th>apps</th>\n",
              "      <th>churn</th>\n",
              "    </tr>\n",
              "  </thead>\n",
              "  <tbody>\n",
              "    <tr>\n",
              "      <th>0</th>\n",
              "      <td>18</td>\n",
              "      <td>53.0</td>\n",
              "      <td>Prepaid</td>\n",
              "      <td>1.779000</td>\n",
              "      <td>139.72</td>\n",
              "      <td>47.31</td>\n",
              "      <td>59.45</td>\n",
              "      <td>0</td>\n",
              "      <td>NaN</td>\n",
              "      <td>25</td>\n",
              "      <td>18.0</td>\n",
              "      <td>13</td>\n",
              "      <td>1.34</td>\n",
              "      <td>[]</td>\n",
              "      <td>False</td>\n",
              "    </tr>\n",
              "    <tr>\n",
              "      <th>1</th>\n",
              "      <td>26</td>\n",
              "      <td>15.0</td>\n",
              "      <td>Prepaid</td>\n",
              "      <td>0.525833</td>\n",
              "      <td>12.14</td>\n",
              "      <td>21.52</td>\n",
              "      <td>1221.65</td>\n",
              "      <td>0</td>\n",
              "      <td>NaN</td>\n",
              "      <td>51</td>\n",
              "      <td>8.0</td>\n",
              "      <td>3</td>\n",
              "      <td>2.57</td>\n",
              "      <td>[]</td>\n",
              "      <td>False</td>\n",
              "    </tr>\n",
              "    <tr>\n",
              "      <th>2</th>\n",
              "      <td>32</td>\n",
              "      <td>152.0</td>\n",
              "      <td>Postpaid</td>\n",
              "      <td>0.510667</td>\n",
              "      <td>10.17</td>\n",
              "      <td>31.11</td>\n",
              "      <td>1170.45</td>\n",
              "      <td>0</td>\n",
              "      <td>1.0</td>\n",
              "      <td>0</td>\n",
              "      <td>13.0</td>\n",
              "      <td>10</td>\n",
              "      <td>8.02</td>\n",
              "      <td>[]</td>\n",
              "      <td>False</td>\n",
              "    </tr>\n",
              "    <tr>\n",
              "      <th>3</th>\n",
              "      <td>33</td>\n",
              "      <td>35.0</td>\n",
              "      <td>Prepaid</td>\n",
              "      <td>NaN</td>\n",
              "      <td>NaN</td>\n",
              "      <td>36.03</td>\n",
              "      <td>2418.91</td>\n",
              "      <td>0</td>\n",
              "      <td>NaN</td>\n",
              "      <td>19</td>\n",
              "      <td>7.0</td>\n",
              "      <td>11</td>\n",
              "      <td>5.96</td>\n",
              "      <td>[RitimGo]</td>\n",
              "      <td>False</td>\n",
              "    </tr>\n",
              "    <tr>\n",
              "      <th>4</th>\n",
              "      <td>18</td>\n",
              "      <td>243.0</td>\n",
              "      <td>Prepaid</td>\n",
              "      <td>1.427000</td>\n",
              "      <td>164.79</td>\n",
              "      <td>46.40</td>\n",
              "      <td>1518.19</td>\n",
              "      <td>0</td>\n",
              "      <td>NaN</td>\n",
              "      <td>99</td>\n",
              "      <td>15.0</td>\n",
              "      <td>6</td>\n",
              "      <td>8.29</td>\n",
              "      <td>[]</td>\n",
              "      <td>False</td>\n",
              "    </tr>\n",
              "  </tbody>\n",
              "</table>\n",
              "</div>"
            ],
            "text/plain": [
              "   age  tenure service_type  avg_call_duration  data_usage  roaming_usage  \\\n",
              "0   18    53.0      Prepaid           1.779000      139.72          47.31   \n",
              "1   26    15.0      Prepaid           0.525833       12.14          21.52   \n",
              "2   32   152.0     Postpaid           0.510667       10.17          31.11   \n",
              "3   33    35.0      Prepaid                NaN         NaN          36.03   \n",
              "4   18   243.0      Prepaid           1.427000      164.79          46.40   \n",
              "\n",
              "   monthly_charge  overdue_payments  auto_payment  avg_top_up_count  \\\n",
              "0           59.45                 0           NaN                25   \n",
              "1         1221.65                 0           NaN                51   \n",
              "2         1170.45                 0           1.0                 0   \n",
              "3         2418.91                 0           NaN                19   \n",
              "4         1518.19                 0           NaN                99   \n",
              "\n",
              "   call_drops  customer_support_calls  satisfaction_score       apps  churn  \n",
              "0        18.0                      13                1.34         []  False  \n",
              "1         8.0                       3                2.57         []  False  \n",
              "2        13.0                      10                8.02         []  False  \n",
              "3         7.0                      11                5.96  [RitimGo]  False  \n",
              "4        15.0                       6                8.29         []  False  "
            ]
          },
          "execution_count": 31,
          "metadata": {},
          "output_type": "execute_result"
        }
      ],
      "source": [
        "df.head()"
      ]
    },
    {
      "cell_type": "code",
      "execution_count": 32,
      "metadata": {
        "id": "KRe-ioTpGtjx"
      },
      "outputs": [],
      "source": [
        "# 'churn' sütununu int tipine dönüştür\n",
        "df['churn'] = df['churn'].astype(\"int\")\n",
        "\n",
        "# 'service_type' sütununu kategori tipine dönüştür\n",
        "df['service_type'] = df['service_type'].astype(\"category\")\n",
        "\n",
        "# 'apps' sütununu düşür (df üzerinde işlem yaparak)\n",
        "df = df.drop(columns=['apps'])\n"
      ]
    },
    {
      "cell_type": "code",
      "execution_count": 75,
      "metadata": {
        "id": "iiLLdwPjJIbF"
      },
      "outputs": [],
      "source": []
    },
    {
      "cell_type": "code",
      "execution_count": 33,
      "metadata": {
        "colab": {
          "base_uri": "https://localhost:8080/",
          "height": 226
        },
        "id": "n-rpsfvDJJqP",
        "outputId": "14af3fde-0b14-4f5e-986e-ca66762595b0"
      },
      "outputs": [
        {
          "data": {
            "text/html": [
              "<div>\n",
              "<style scoped>\n",
              "    .dataframe tbody tr th:only-of-type {\n",
              "        vertical-align: middle;\n",
              "    }\n",
              "\n",
              "    .dataframe tbody tr th {\n",
              "        vertical-align: top;\n",
              "    }\n",
              "\n",
              "    .dataframe thead th {\n",
              "        text-align: right;\n",
              "    }\n",
              "</style>\n",
              "<table border=\"1\" class=\"dataframe\">\n",
              "  <thead>\n",
              "    <tr style=\"text-align: right;\">\n",
              "      <th></th>\n",
              "      <th>age</th>\n",
              "      <th>tenure</th>\n",
              "      <th>service_type</th>\n",
              "      <th>avg_call_duration</th>\n",
              "      <th>data_usage</th>\n",
              "      <th>roaming_usage</th>\n",
              "      <th>monthly_charge</th>\n",
              "      <th>overdue_payments</th>\n",
              "      <th>auto_payment</th>\n",
              "      <th>avg_top_up_count</th>\n",
              "      <th>call_drops</th>\n",
              "      <th>customer_support_calls</th>\n",
              "      <th>satisfaction_score</th>\n",
              "      <th>churn</th>\n",
              "    </tr>\n",
              "  </thead>\n",
              "  <tbody>\n",
              "    <tr>\n",
              "      <th>0</th>\n",
              "      <td>18</td>\n",
              "      <td>53.0</td>\n",
              "      <td>Prepaid</td>\n",
              "      <td>1.779000</td>\n",
              "      <td>139.72</td>\n",
              "      <td>47.31</td>\n",
              "      <td>59.45</td>\n",
              "      <td>0</td>\n",
              "      <td>NaN</td>\n",
              "      <td>25</td>\n",
              "      <td>18.0</td>\n",
              "      <td>13</td>\n",
              "      <td>1.34</td>\n",
              "      <td>0</td>\n",
              "    </tr>\n",
              "    <tr>\n",
              "      <th>1</th>\n",
              "      <td>26</td>\n",
              "      <td>15.0</td>\n",
              "      <td>Prepaid</td>\n",
              "      <td>0.525833</td>\n",
              "      <td>12.14</td>\n",
              "      <td>21.52</td>\n",
              "      <td>1221.65</td>\n",
              "      <td>0</td>\n",
              "      <td>NaN</td>\n",
              "      <td>51</td>\n",
              "      <td>8.0</td>\n",
              "      <td>3</td>\n",
              "      <td>2.57</td>\n",
              "      <td>0</td>\n",
              "    </tr>\n",
              "    <tr>\n",
              "      <th>2</th>\n",
              "      <td>32</td>\n",
              "      <td>152.0</td>\n",
              "      <td>Postpaid</td>\n",
              "      <td>0.510667</td>\n",
              "      <td>10.17</td>\n",
              "      <td>31.11</td>\n",
              "      <td>1170.45</td>\n",
              "      <td>0</td>\n",
              "      <td>1.0</td>\n",
              "      <td>0</td>\n",
              "      <td>13.0</td>\n",
              "      <td>10</td>\n",
              "      <td>8.02</td>\n",
              "      <td>0</td>\n",
              "    </tr>\n",
              "    <tr>\n",
              "      <th>3</th>\n",
              "      <td>33</td>\n",
              "      <td>35.0</td>\n",
              "      <td>Prepaid</td>\n",
              "      <td>NaN</td>\n",
              "      <td>NaN</td>\n",
              "      <td>36.03</td>\n",
              "      <td>2418.91</td>\n",
              "      <td>0</td>\n",
              "      <td>NaN</td>\n",
              "      <td>19</td>\n",
              "      <td>7.0</td>\n",
              "      <td>11</td>\n",
              "      <td>5.96</td>\n",
              "      <td>0</td>\n",
              "    </tr>\n",
              "    <tr>\n",
              "      <th>4</th>\n",
              "      <td>18</td>\n",
              "      <td>243.0</td>\n",
              "      <td>Prepaid</td>\n",
              "      <td>1.427000</td>\n",
              "      <td>164.79</td>\n",
              "      <td>46.40</td>\n",
              "      <td>1518.19</td>\n",
              "      <td>0</td>\n",
              "      <td>NaN</td>\n",
              "      <td>99</td>\n",
              "      <td>15.0</td>\n",
              "      <td>6</td>\n",
              "      <td>8.29</td>\n",
              "      <td>0</td>\n",
              "    </tr>\n",
              "  </tbody>\n",
              "</table>\n",
              "</div>"
            ],
            "text/plain": [
              "   age  tenure service_type  avg_call_duration  data_usage  roaming_usage  \\\n",
              "0   18    53.0      Prepaid           1.779000      139.72          47.31   \n",
              "1   26    15.0      Prepaid           0.525833       12.14          21.52   \n",
              "2   32   152.0     Postpaid           0.510667       10.17          31.11   \n",
              "3   33    35.0      Prepaid                NaN         NaN          36.03   \n",
              "4   18   243.0      Prepaid           1.427000      164.79          46.40   \n",
              "\n",
              "   monthly_charge  overdue_payments  auto_payment  avg_top_up_count  \\\n",
              "0           59.45                 0           NaN                25   \n",
              "1         1221.65                 0           NaN                51   \n",
              "2         1170.45                 0           1.0                 0   \n",
              "3         2418.91                 0           NaN                19   \n",
              "4         1518.19                 0           NaN                99   \n",
              "\n",
              "   call_drops  customer_support_calls  satisfaction_score  churn  \n",
              "0        18.0                      13                1.34      0  \n",
              "1         8.0                       3                2.57      0  \n",
              "2        13.0                      10                8.02      0  \n",
              "3         7.0                      11                5.96      0  \n",
              "4        15.0                       6                8.29      0  "
            ]
          },
          "execution_count": 33,
          "metadata": {},
          "output_type": "execute_result"
        }
      ],
      "source": [
        "df.head()"
      ]
    },
    {
      "cell_type": "code",
      "execution_count": 34,
      "metadata": {
        "id": "4MUbxFpLoLFx"
      },
      "outputs": [],
      "source": [
        "import numpy as np\n",
        "from sklearn.model_selection import train_test_split\n",
        "from sklearn.linear_model import LogisticRegression\n",
        "from sklearn.metrics import accuracy_score, confusion_matrix, classification_report\n",
        "from sklearn.preprocessing import StandardScaler, LabelEncoder"
      ]
    },
    {
      "cell_type": "code",
      "execution_count": 35,
      "metadata": {},
      "outputs": [],
      "source": [
        "data=df# Eksik değerleri doldur (örneğin, ortalama ile)\n",
        "data['avg_call_duration'] = data['avg_call_duration'].fillna(data['avg_call_duration'].mean())\n",
        "data['data_usage'] = data['data_usage'].fillna(data['data_usage'].mean())\n",
        "data['auto_payment'] = data['auto_payment'].fillna(data['auto_payment'].mean())\n",
        "\n",
        "# 'service_type' gibi kategorik sütunları encode et\n",
        "label_encoder = LabelEncoder()\n",
        "data['service_type'] = label_encoder.fit_transform(data['service_type'])\n",
        "\n",
        "# Hedef değişken ve özellikleri ayır\n",
        "X = data.drop(columns=['churn'])  # 'churn' sütunu dışında tüm sütunlar\n",
        "y = data['churn']"
      ]
    },
    {
      "cell_type": "code",
      "execution_count": 36,
      "metadata": {},
      "outputs": [],
      "source": [
        "X_train, X_test, y_train, y_test = train_test_split(X, y, test_size=0.2, random_state=42)\n"
      ]
    },
    {
      "cell_type": "code",
      "execution_count": 37,
      "metadata": {},
      "outputs": [],
      "source": [
        "scaler = StandardScaler()\n",
        "X_train_scaled = scaler.fit_transform(X_train)\n",
        "X_test_scaled = scaler.transform(X_test)\n"
      ]
    },
    {
      "cell_type": "code",
      "execution_count": 42,
      "metadata": {},
      "outputs": [],
      "source": [
        "from sklearn.impute import SimpleImputer\n",
        "\n",
        "# Eksik verileri medyan ile doldur\n",
        "imputer = SimpleImputer(strategy='median')\n",
        "X_train_scaled = imputer.fit_transform(X_train_scaled)\n"
      ]
    },
    {
      "cell_type": "code",
      "execution_count": 43,
      "metadata": {},
      "outputs": [
        {
          "data": {
            "text/html": [
              "<style>#sk-container-id-1 {\n",
              "  /* Definition of color scheme common for light and dark mode */\n",
              "  --sklearn-color-text: black;\n",
              "  --sklearn-color-line: gray;\n",
              "  /* Definition of color scheme for unfitted estimators */\n",
              "  --sklearn-color-unfitted-level-0: #fff5e6;\n",
              "  --sklearn-color-unfitted-level-1: #f6e4d2;\n",
              "  --sklearn-color-unfitted-level-2: #ffe0b3;\n",
              "  --sklearn-color-unfitted-level-3: chocolate;\n",
              "  /* Definition of color scheme for fitted estimators */\n",
              "  --sklearn-color-fitted-level-0: #f0f8ff;\n",
              "  --sklearn-color-fitted-level-1: #d4ebff;\n",
              "  --sklearn-color-fitted-level-2: #b3dbfd;\n",
              "  --sklearn-color-fitted-level-3: cornflowerblue;\n",
              "\n",
              "  /* Specific color for light theme */\n",
              "  --sklearn-color-text-on-default-background: var(--sg-text-color, var(--theme-code-foreground, var(--jp-content-font-color1, black)));\n",
              "  --sklearn-color-background: var(--sg-background-color, var(--theme-background, var(--jp-layout-color0, white)));\n",
              "  --sklearn-color-border-box: var(--sg-text-color, var(--theme-code-foreground, var(--jp-content-font-color1, black)));\n",
              "  --sklearn-color-icon: #696969;\n",
              "\n",
              "  @media (prefers-color-scheme: dark) {\n",
              "    /* Redefinition of color scheme for dark theme */\n",
              "    --sklearn-color-text-on-default-background: var(--sg-text-color, var(--theme-code-foreground, var(--jp-content-font-color1, white)));\n",
              "    --sklearn-color-background: var(--sg-background-color, var(--theme-background, var(--jp-layout-color0, #111)));\n",
              "    --sklearn-color-border-box: var(--sg-text-color, var(--theme-code-foreground, var(--jp-content-font-color1, white)));\n",
              "    --sklearn-color-icon: #878787;\n",
              "  }\n",
              "}\n",
              "\n",
              "#sk-container-id-1 {\n",
              "  color: var(--sklearn-color-text);\n",
              "}\n",
              "\n",
              "#sk-container-id-1 pre {\n",
              "  padding: 0;\n",
              "}\n",
              "\n",
              "#sk-container-id-1 input.sk-hidden--visually {\n",
              "  border: 0;\n",
              "  clip: rect(1px 1px 1px 1px);\n",
              "  clip: rect(1px, 1px, 1px, 1px);\n",
              "  height: 1px;\n",
              "  margin: -1px;\n",
              "  overflow: hidden;\n",
              "  padding: 0;\n",
              "  position: absolute;\n",
              "  width: 1px;\n",
              "}\n",
              "\n",
              "#sk-container-id-1 div.sk-dashed-wrapped {\n",
              "  border: 1px dashed var(--sklearn-color-line);\n",
              "  margin: 0 0.4em 0.5em 0.4em;\n",
              "  box-sizing: border-box;\n",
              "  padding-bottom: 0.4em;\n",
              "  background-color: var(--sklearn-color-background);\n",
              "}\n",
              "\n",
              "#sk-container-id-1 div.sk-container {\n",
              "  /* jupyter's `normalize.less` sets `[hidden] { display: none; }`\n",
              "     but bootstrap.min.css set `[hidden] { display: none !important; }`\n",
              "     so we also need the `!important` here to be able to override the\n",
              "     default hidden behavior on the sphinx rendered scikit-learn.org.\n",
              "     See: https://github.com/scikit-learn/scikit-learn/issues/21755 */\n",
              "  display: inline-block !important;\n",
              "  position: relative;\n",
              "}\n",
              "\n",
              "#sk-container-id-1 div.sk-text-repr-fallback {\n",
              "  display: none;\n",
              "}\n",
              "\n",
              "div.sk-parallel-item,\n",
              "div.sk-serial,\n",
              "div.sk-item {\n",
              "  /* draw centered vertical line to link estimators */\n",
              "  background-image: linear-gradient(var(--sklearn-color-text-on-default-background), var(--sklearn-color-text-on-default-background));\n",
              "  background-size: 2px 100%;\n",
              "  background-repeat: no-repeat;\n",
              "  background-position: center center;\n",
              "}\n",
              "\n",
              "/* Parallel-specific style estimator block */\n",
              "\n",
              "#sk-container-id-1 div.sk-parallel-item::after {\n",
              "  content: \"\";\n",
              "  width: 100%;\n",
              "  border-bottom: 2px solid var(--sklearn-color-text-on-default-background);\n",
              "  flex-grow: 1;\n",
              "}\n",
              "\n",
              "#sk-container-id-1 div.sk-parallel {\n",
              "  display: flex;\n",
              "  align-items: stretch;\n",
              "  justify-content: center;\n",
              "  background-color: var(--sklearn-color-background);\n",
              "  position: relative;\n",
              "}\n",
              "\n",
              "#sk-container-id-1 div.sk-parallel-item {\n",
              "  display: flex;\n",
              "  flex-direction: column;\n",
              "}\n",
              "\n",
              "#sk-container-id-1 div.sk-parallel-item:first-child::after {\n",
              "  align-self: flex-end;\n",
              "  width: 50%;\n",
              "}\n",
              "\n",
              "#sk-container-id-1 div.sk-parallel-item:last-child::after {\n",
              "  align-self: flex-start;\n",
              "  width: 50%;\n",
              "}\n",
              "\n",
              "#sk-container-id-1 div.sk-parallel-item:only-child::after {\n",
              "  width: 0;\n",
              "}\n",
              "\n",
              "/* Serial-specific style estimator block */\n",
              "\n",
              "#sk-container-id-1 div.sk-serial {\n",
              "  display: flex;\n",
              "  flex-direction: column;\n",
              "  align-items: center;\n",
              "  background-color: var(--sklearn-color-background);\n",
              "  padding-right: 1em;\n",
              "  padding-left: 1em;\n",
              "}\n",
              "\n",
              "\n",
              "/* Toggleable style: style used for estimator/Pipeline/ColumnTransformer box that is\n",
              "clickable and can be expanded/collapsed.\n",
              "- Pipeline and ColumnTransformer use this feature and define the default style\n",
              "- Estimators will overwrite some part of the style using the `sk-estimator` class\n",
              "*/\n",
              "\n",
              "/* Pipeline and ColumnTransformer style (default) */\n",
              "\n",
              "#sk-container-id-1 div.sk-toggleable {\n",
              "  /* Default theme specific background. It is overwritten whether we have a\n",
              "  specific estimator or a Pipeline/ColumnTransformer */\n",
              "  background-color: var(--sklearn-color-background);\n",
              "}\n",
              "\n",
              "/* Toggleable label */\n",
              "#sk-container-id-1 label.sk-toggleable__label {\n",
              "  cursor: pointer;\n",
              "  display: block;\n",
              "  width: 100%;\n",
              "  margin-bottom: 0;\n",
              "  padding: 0.5em;\n",
              "  box-sizing: border-box;\n",
              "  text-align: center;\n",
              "}\n",
              "\n",
              "#sk-container-id-1 label.sk-toggleable__label-arrow:before {\n",
              "  /* Arrow on the left of the label */\n",
              "  content: \"▸\";\n",
              "  float: left;\n",
              "  margin-right: 0.25em;\n",
              "  color: var(--sklearn-color-icon);\n",
              "}\n",
              "\n",
              "#sk-container-id-1 label.sk-toggleable__label-arrow:hover:before {\n",
              "  color: var(--sklearn-color-text);\n",
              "}\n",
              "\n",
              "/* Toggleable content - dropdown */\n",
              "\n",
              "#sk-container-id-1 div.sk-toggleable__content {\n",
              "  max-height: 0;\n",
              "  max-width: 0;\n",
              "  overflow: hidden;\n",
              "  text-align: left;\n",
              "  /* unfitted */\n",
              "  background-color: var(--sklearn-color-unfitted-level-0);\n",
              "}\n",
              "\n",
              "#sk-container-id-1 div.sk-toggleable__content.fitted {\n",
              "  /* fitted */\n",
              "  background-color: var(--sklearn-color-fitted-level-0);\n",
              "}\n",
              "\n",
              "#sk-container-id-1 div.sk-toggleable__content pre {\n",
              "  margin: 0.2em;\n",
              "  border-radius: 0.25em;\n",
              "  color: var(--sklearn-color-text);\n",
              "  /* unfitted */\n",
              "  background-color: var(--sklearn-color-unfitted-level-0);\n",
              "}\n",
              "\n",
              "#sk-container-id-1 div.sk-toggleable__content.fitted pre {\n",
              "  /* unfitted */\n",
              "  background-color: var(--sklearn-color-fitted-level-0);\n",
              "}\n",
              "\n",
              "#sk-container-id-1 input.sk-toggleable__control:checked~div.sk-toggleable__content {\n",
              "  /* Expand drop-down */\n",
              "  max-height: 200px;\n",
              "  max-width: 100%;\n",
              "  overflow: auto;\n",
              "}\n",
              "\n",
              "#sk-container-id-1 input.sk-toggleable__control:checked~label.sk-toggleable__label-arrow:before {\n",
              "  content: \"▾\";\n",
              "}\n",
              "\n",
              "/* Pipeline/ColumnTransformer-specific style */\n",
              "\n",
              "#sk-container-id-1 div.sk-label input.sk-toggleable__control:checked~label.sk-toggleable__label {\n",
              "  color: var(--sklearn-color-text);\n",
              "  background-color: var(--sklearn-color-unfitted-level-2);\n",
              "}\n",
              "\n",
              "#sk-container-id-1 div.sk-label.fitted input.sk-toggleable__control:checked~label.sk-toggleable__label {\n",
              "  background-color: var(--sklearn-color-fitted-level-2);\n",
              "}\n",
              "\n",
              "/* Estimator-specific style */\n",
              "\n",
              "/* Colorize estimator box */\n",
              "#sk-container-id-1 div.sk-estimator input.sk-toggleable__control:checked~label.sk-toggleable__label {\n",
              "  /* unfitted */\n",
              "  background-color: var(--sklearn-color-unfitted-level-2);\n",
              "}\n",
              "\n",
              "#sk-container-id-1 div.sk-estimator.fitted input.sk-toggleable__control:checked~label.sk-toggleable__label {\n",
              "  /* fitted */\n",
              "  background-color: var(--sklearn-color-fitted-level-2);\n",
              "}\n",
              "\n",
              "#sk-container-id-1 div.sk-label label.sk-toggleable__label,\n",
              "#sk-container-id-1 div.sk-label label {\n",
              "  /* The background is the default theme color */\n",
              "  color: var(--sklearn-color-text-on-default-background);\n",
              "}\n",
              "\n",
              "/* On hover, darken the color of the background */\n",
              "#sk-container-id-1 div.sk-label:hover label.sk-toggleable__label {\n",
              "  color: var(--sklearn-color-text);\n",
              "  background-color: var(--sklearn-color-unfitted-level-2);\n",
              "}\n",
              "\n",
              "/* Label box, darken color on hover, fitted */\n",
              "#sk-container-id-1 div.sk-label.fitted:hover label.sk-toggleable__label.fitted {\n",
              "  color: var(--sklearn-color-text);\n",
              "  background-color: var(--sklearn-color-fitted-level-2);\n",
              "}\n",
              "\n",
              "/* Estimator label */\n",
              "\n",
              "#sk-container-id-1 div.sk-label label {\n",
              "  font-family: monospace;\n",
              "  font-weight: bold;\n",
              "  display: inline-block;\n",
              "  line-height: 1.2em;\n",
              "}\n",
              "\n",
              "#sk-container-id-1 div.sk-label-container {\n",
              "  text-align: center;\n",
              "}\n",
              "\n",
              "/* Estimator-specific */\n",
              "#sk-container-id-1 div.sk-estimator {\n",
              "  font-family: monospace;\n",
              "  border: 1px dotted var(--sklearn-color-border-box);\n",
              "  border-radius: 0.25em;\n",
              "  box-sizing: border-box;\n",
              "  margin-bottom: 0.5em;\n",
              "  /* unfitted */\n",
              "  background-color: var(--sklearn-color-unfitted-level-0);\n",
              "}\n",
              "\n",
              "#sk-container-id-1 div.sk-estimator.fitted {\n",
              "  /* fitted */\n",
              "  background-color: var(--sklearn-color-fitted-level-0);\n",
              "}\n",
              "\n",
              "/* on hover */\n",
              "#sk-container-id-1 div.sk-estimator:hover {\n",
              "  /* unfitted */\n",
              "  background-color: var(--sklearn-color-unfitted-level-2);\n",
              "}\n",
              "\n",
              "#sk-container-id-1 div.sk-estimator.fitted:hover {\n",
              "  /* fitted */\n",
              "  background-color: var(--sklearn-color-fitted-level-2);\n",
              "}\n",
              "\n",
              "/* Specification for estimator info (e.g. \"i\" and \"?\") */\n",
              "\n",
              "/* Common style for \"i\" and \"?\" */\n",
              "\n",
              ".sk-estimator-doc-link,\n",
              "a:link.sk-estimator-doc-link,\n",
              "a:visited.sk-estimator-doc-link {\n",
              "  float: right;\n",
              "  font-size: smaller;\n",
              "  line-height: 1em;\n",
              "  font-family: monospace;\n",
              "  background-color: var(--sklearn-color-background);\n",
              "  border-radius: 1em;\n",
              "  height: 1em;\n",
              "  width: 1em;\n",
              "  text-decoration: none !important;\n",
              "  margin-left: 1ex;\n",
              "  /* unfitted */\n",
              "  border: var(--sklearn-color-unfitted-level-1) 1pt solid;\n",
              "  color: var(--sklearn-color-unfitted-level-1);\n",
              "}\n",
              "\n",
              ".sk-estimator-doc-link.fitted,\n",
              "a:link.sk-estimator-doc-link.fitted,\n",
              "a:visited.sk-estimator-doc-link.fitted {\n",
              "  /* fitted */\n",
              "  border: var(--sklearn-color-fitted-level-1) 1pt solid;\n",
              "  color: var(--sklearn-color-fitted-level-1);\n",
              "}\n",
              "\n",
              "/* On hover */\n",
              "div.sk-estimator:hover .sk-estimator-doc-link:hover,\n",
              ".sk-estimator-doc-link:hover,\n",
              "div.sk-label-container:hover .sk-estimator-doc-link:hover,\n",
              ".sk-estimator-doc-link:hover {\n",
              "  /* unfitted */\n",
              "  background-color: var(--sklearn-color-unfitted-level-3);\n",
              "  color: var(--sklearn-color-background);\n",
              "  text-decoration: none;\n",
              "}\n",
              "\n",
              "div.sk-estimator.fitted:hover .sk-estimator-doc-link.fitted:hover,\n",
              ".sk-estimator-doc-link.fitted:hover,\n",
              "div.sk-label-container:hover .sk-estimator-doc-link.fitted:hover,\n",
              ".sk-estimator-doc-link.fitted:hover {\n",
              "  /* fitted */\n",
              "  background-color: var(--sklearn-color-fitted-level-3);\n",
              "  color: var(--sklearn-color-background);\n",
              "  text-decoration: none;\n",
              "}\n",
              "\n",
              "/* Span, style for the box shown on hovering the info icon */\n",
              ".sk-estimator-doc-link span {\n",
              "  display: none;\n",
              "  z-index: 9999;\n",
              "  position: relative;\n",
              "  font-weight: normal;\n",
              "  right: .2ex;\n",
              "  padding: .5ex;\n",
              "  margin: .5ex;\n",
              "  width: min-content;\n",
              "  min-width: 20ex;\n",
              "  max-width: 50ex;\n",
              "  color: var(--sklearn-color-text);\n",
              "  box-shadow: 2pt 2pt 4pt #999;\n",
              "  /* unfitted */\n",
              "  background: var(--sklearn-color-unfitted-level-0);\n",
              "  border: .5pt solid var(--sklearn-color-unfitted-level-3);\n",
              "}\n",
              "\n",
              ".sk-estimator-doc-link.fitted span {\n",
              "  /* fitted */\n",
              "  background: var(--sklearn-color-fitted-level-0);\n",
              "  border: var(--sklearn-color-fitted-level-3);\n",
              "}\n",
              "\n",
              ".sk-estimator-doc-link:hover span {\n",
              "  display: block;\n",
              "}\n",
              "\n",
              "/* \"?\"-specific style due to the `<a>` HTML tag */\n",
              "\n",
              "#sk-container-id-1 a.estimator_doc_link {\n",
              "  float: right;\n",
              "  font-size: 1rem;\n",
              "  line-height: 1em;\n",
              "  font-family: monospace;\n",
              "  background-color: var(--sklearn-color-background);\n",
              "  border-radius: 1rem;\n",
              "  height: 1rem;\n",
              "  width: 1rem;\n",
              "  text-decoration: none;\n",
              "  /* unfitted */\n",
              "  color: var(--sklearn-color-unfitted-level-1);\n",
              "  border: var(--sklearn-color-unfitted-level-1) 1pt solid;\n",
              "}\n",
              "\n",
              "#sk-container-id-1 a.estimator_doc_link.fitted {\n",
              "  /* fitted */\n",
              "  border: var(--sklearn-color-fitted-level-1) 1pt solid;\n",
              "  color: var(--sklearn-color-fitted-level-1);\n",
              "}\n",
              "\n",
              "/* On hover */\n",
              "#sk-container-id-1 a.estimator_doc_link:hover {\n",
              "  /* unfitted */\n",
              "  background-color: var(--sklearn-color-unfitted-level-3);\n",
              "  color: var(--sklearn-color-background);\n",
              "  text-decoration: none;\n",
              "}\n",
              "\n",
              "#sk-container-id-1 a.estimator_doc_link.fitted:hover {\n",
              "  /* fitted */\n",
              "  background-color: var(--sklearn-color-fitted-level-3);\n",
              "}\n",
              "</style><div id=\"sk-container-id-1\" class=\"sk-top-container\"><div class=\"sk-text-repr-fallback\"><pre>LogisticRegression()</pre><b>In a Jupyter environment, please rerun this cell to show the HTML representation or trust the notebook. <br />On GitHub, the HTML representation is unable to render, please try loading this page with nbviewer.org.</b></div><div class=\"sk-container\" hidden><div class=\"sk-item\"><div class=\"sk-estimator fitted sk-toggleable\"><input class=\"sk-toggleable__control sk-hidden--visually\" id=\"sk-estimator-id-1\" type=\"checkbox\" checked><label for=\"sk-estimator-id-1\" class=\"sk-toggleable__label fitted sk-toggleable__label-arrow fitted\">&nbsp;&nbsp;LogisticRegression<a class=\"sk-estimator-doc-link fitted\" rel=\"noreferrer\" target=\"_blank\" href=\"https://scikit-learn.org/1.5/modules/generated/sklearn.linear_model.LogisticRegression.html\">?<span>Documentation for LogisticRegression</span></a><span class=\"sk-estimator-doc-link fitted\">i<span>Fitted</span></span></label><div class=\"sk-toggleable__content fitted\"><pre>LogisticRegression()</pre></div> </div></div></div></div>"
            ],
            "text/plain": [
              "LogisticRegression()"
            ]
          },
          "execution_count": 43,
          "metadata": {},
          "output_type": "execute_result"
        }
      ],
      "source": [
        "# Lojistik regresyon modelini oluştur\n",
        "model = LogisticRegression()\n",
        "\n",
        "# Modeli eğit\n",
        "model.fit(X_train_scaled, y_train)\n"
      ]
    },
    {
      "cell_type": "code",
      "execution_count": 45,
      "metadata": {},
      "outputs": [],
      "source": [
        "from sklearn.impute import SimpleImputer\n",
        "\n",
        "# Eksik verileri medyan ile doldur\n",
        "imputer = SimpleImputer(strategy='median')\n",
        "X_test_scaled = imputer.fit_transform(X_test_scaled)\n"
      ]
    },
    {
      "cell_type": "code",
      "execution_count": 46,
      "metadata": {},
      "outputs": [
        {
          "name": "stdout",
          "output_type": "stream",
          "text": [
            "Accuracy: 0.98666\n",
            "Confusion Matrix:\n",
            "[[197332      0]\n",
            " [  2668      0]]\n"
          ]
        },
        {
          "name": "stderr",
          "output_type": "stream",
          "text": [
            "/home/selman/.local/lib/python3.10/site-packages/sklearn/metrics/_classification.py:1531: UndefinedMetricWarning: Precision is ill-defined and being set to 0.0 in labels with no predicted samples. Use `zero_division` parameter to control this behavior.\n",
            "  _warn_prf(average, modifier, f\"{metric.capitalize()} is\", len(result))\n",
            "/home/selman/.local/lib/python3.10/site-packages/sklearn/metrics/_classification.py:1531: UndefinedMetricWarning: Precision is ill-defined and being set to 0.0 in labels with no predicted samples. Use `zero_division` parameter to control this behavior.\n",
            "  _warn_prf(average, modifier, f\"{metric.capitalize()} is\", len(result))\n"
          ]
        },
        {
          "name": "stdout",
          "output_type": "stream",
          "text": [
            "Classification Report:\n",
            "              precision    recall  f1-score   support\n",
            "\n",
            "           0       0.99      1.00      0.99    197332\n",
            "           1       0.00      0.00      0.00      2668\n",
            "\n",
            "    accuracy                           0.99    200000\n",
            "   macro avg       0.49      0.50      0.50    200000\n",
            "weighted avg       0.97      0.99      0.98    200000\n",
            "\n"
          ]
        },
        {
          "name": "stderr",
          "output_type": "stream",
          "text": [
            "/home/selman/.local/lib/python3.10/site-packages/sklearn/metrics/_classification.py:1531: UndefinedMetricWarning: Precision is ill-defined and being set to 0.0 in labels with no predicted samples. Use `zero_division` parameter to control this behavior.\n",
            "  _warn_prf(average, modifier, f\"{metric.capitalize()} is\", len(result))\n"
          ]
        }
      ],
      "source": [
        "# Test seti üzerinde tahmin yap\n",
        "y_pred = model.predict(X_test_scaled)\n",
        "\n",
        "# Modelin başarısını değerlendir\n",
        "print(f\"Accuracy: {accuracy_score(y_test, y_pred)}\")\n",
        "print(f\"Confusion Matrix:\\n{confusion_matrix(y_test, y_pred)}\")\n",
        "print(f\"Classification Report:\\n{classification_report(y_test, y_pred)}\")\n"
      ]
    },
    {
      "cell_type": "code",
      "execution_count": null,
      "metadata": {},
      "outputs": [],
      "source": []
    }
  ],
  "metadata": {
    "colab": {
      "provenance": []
    },
    "kernelspec": {
      "display_name": "Python 3",
      "name": "python3"
    },
    "language_info": {
      "codemirror_mode": {
        "name": "ipython",
        "version": 3
      },
      "file_extension": ".py",
      "mimetype": "text/x-python",
      "name": "python",
      "nbconvert_exporter": "python",
      "pygments_lexer": "ipython3",
      "version": "3.10.12"
    }
  },
  "nbformat": 4,
  "nbformat_minor": 0
}
